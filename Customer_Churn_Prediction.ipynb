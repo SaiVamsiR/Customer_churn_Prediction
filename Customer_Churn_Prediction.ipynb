{
 "cells": [
  {
   "cell_type": "code",
   "execution_count": 1,
   "id": "4c05c95e",
   "metadata": {},
   "outputs": [],
   "source": [
    "# Import Necessary Libraries\n",
    "import numpy as np\n",
    "import pandas as pd\n",
    "import sklearn\n",
    "import matplotlib.pyplot as plt\n",
    "import seaborn as sns\n",
    "from sklearn.preprocessing import LabelEncoder\n",
    "from sklearn.preprocessing import StandardScaler\n",
    "from sklearn.metrics import classification_report\n",
    "from sklearn.linear_model import LogisticRegression\n",
    "from sklearn.model_selection import train_test_split"
   ]
  },
  {
   "cell_type": "code",
   "execution_count": null,
   "id": "b1937820",
   "metadata": {},
   "outputs": [],
   "source": [
    "df = pd.read_csv(\"churn.csv\")\n",
    "df"
   ]
  },
  {
   "cell_type": "code",
   "execution_count": null,
   "id": "e0d7dd77",
   "metadata": {},
   "outputs": [],
   "source": [
    "df.shape"
   ]
  },
  {
   "cell_type": "code",
   "execution_count": null,
   "id": "0cc38343",
   "metadata": {},
   "outputs": [],
   "source": [
    "# To see all column names\n",
    "df.columns.values"
   ]
  },
  {
   "cell_type": "code",
   "execution_count": null,
   "id": "3d847cca",
   "metadata": {},
   "outputs": [],
   "source": [
    "#To check for NA or missing values\n",
    "df.isna().sum()"
   ]
  },
  {
   "cell_type": "code",
   "execution_count": null,
   "id": "ec0b1466",
   "metadata": {},
   "outputs": [],
   "source": [
    "df.describe()"
   ]
  },
  {
   "cell_type": "code",
   "execution_count": null,
   "id": "054e6fbc",
   "metadata": {},
   "outputs": [],
   "source": [
    "df['Churn'].value_counts()"
   ]
  },
  {
   "cell_type": "code",
   "execution_count": null,
   "id": "26bdd264",
   "metadata": {},
   "outputs": [],
   "source": [
    "#Visualize the count of customer churn\n",
    "sns.countplot(df['Churn'])"
   ]
  },
  {
   "cell_type": "code",
   "execution_count": null,
   "id": "f86f8732",
   "metadata": {},
   "outputs": [],
   "source": [
    "#To see the percentage of customers that are leaving\n",
    "numRetained = df[df.Churn == 'No'].shape[0]\n",
    "numChurned = df[df.Churn == 'Yes'].shape[0]\n",
    "\n",
    "# print the percentage of customers that stayed\n",
    "print(numRetained/(numRetained + numChurned) * 100,'% of customers stayed in the company')\n",
    "# peint the percentage of customers that left\n",
    "print(numChurned/(numRetained + numChurned) * 100, '% of customers left with the company')"
   ]
  },
  {
   "cell_type": "code",
   "execution_count": null,
   "id": "8f486ade",
   "metadata": {},
   "outputs": [],
   "source": [
    "#Visualize the churn count for both males and females\n",
    "sns.countplot(x ='gender', hue='Churn', data=df)"
   ]
  },
  {
   "cell_type": "code",
   "execution_count": null,
   "id": "a9412922",
   "metadata": {},
   "outputs": [],
   "source": [
    "#Visualize the churn count for the internet service\n",
    "sns.countplot(x='InternetService', hue='Churn', data=df)"
   ]
  },
  {
   "cell_type": "code",
   "execution_count": null,
   "id": "dd4b87eb",
   "metadata": {},
   "outputs": [],
   "source": [
    "#To Visualize Numeric data\n",
    "numericFeatures = ['tenure', 'MonthlyCharges']\n",
    "fig, ax = plt.subplots(1,2, figsize=(28, 8))\n",
    "df[df.Churn == \"No\"][numericFeatures].hist(bins=20, color='blue', alpha=0.5, ax=ax)\n",
    "df[df.Churn == \"Yes\"][numericFeatures].hist(bins=20, color='orange', alpha=0.5, ax=ax)"
   ]
  },
  {
   "cell_type": "code",
   "execution_count": null,
   "id": "83663988",
   "metadata": {},
   "outputs": [],
   "source": [
    "cleanDF = df.drop('customerID', axis=1)"
   ]
  },
  {
   "cell_type": "code",
   "execution_count": null,
   "id": "421b379a",
   "metadata": {},
   "outputs": [],
   "source": [
    "#Convert all the non-numeric columns to numeric\n",
    "for column in cleanDF.columns:\n",
    "  if cleanDF[column].dtype == np.number:\n",
    "    continue\n",
    "  cleanDF[column] = LabelEncoder().fit_transform(cleanDF[column])"
   ]
  },
  {
   "cell_type": "code",
   "execution_count": null,
   "id": "ec5a8d86",
   "metadata": {},
   "outputs": [],
   "source": [
    "cleanDF.dtypes"
   ]
  },
  {
   "cell_type": "code",
   "execution_count": null,
   "id": "d43a4ca8",
   "metadata": {},
   "outputs": [],
   "source": [
    "cleanDF.head()"
   ]
  },
  {
   "cell_type": "code",
   "execution_count": null,
   "id": "d1f162fe",
   "metadata": {},
   "outputs": [],
   "source": [
    "#Scale the data\n",
    "x = cleanDF.drop('Churn', axis=1)\n",
    "y = cleanDF['Churn']\n",
    "x = StandardScaler().fit_transform(x)"
   ]
  },
  {
   "cell_type": "code",
   "execution_count": null,
   "id": "6c2fcd16",
   "metadata": {},
   "outputs": [],
   "source": [
    "#Split the data into 70% training and 30% testing\n",
    "xtrain, xtest, ytrain, ytest = train_test_split(x,y, test_size=0.2, random_state=42)"
   ]
  },
  {
   "cell_type": "code",
   "execution_count": null,
   "id": "3339d0d1",
   "metadata": {},
   "outputs": [],
   "source": [
    "#Create and Train the model\n",
    "model = LogisticRegression()\n",
    "# Train the model\n",
    "model.fit(xtrain, ytrain)"
   ]
  },
  {
   "cell_type": "code",
   "execution_count": null,
   "id": "bc9f76f3",
   "metadata": {},
   "outputs": [],
   "source": [
    "#Create the predictions on the test data\n",
    "predictions = model.predict(xtest)\n",
    "# print the predictions\n",
    "print(predictions)"
   ]
  },
  {
   "cell_type": "code",
   "execution_count": null,
   "id": "76a8f7c9",
   "metadata": {},
   "outputs": [],
   "source": [
    "#check the precision, recall and f1-score\n",
    "print(classification_report(ytest, predictions))"
   ]
  },
  {
   "cell_type": "code",
   "execution_count": null,
   "id": "e2a6d85b",
   "metadata": {},
   "outputs": [],
   "source": []
  },
  {
   "cell_type": "code",
   "execution_count": null,
   "id": "2d7a6664",
   "metadata": {},
   "outputs": [],
   "source": []
  },
  {
   "cell_type": "code",
   "execution_count": null,
   "id": "59ca8ba4",
   "metadata": {},
   "outputs": [],
   "source": []
  },
  {
   "cell_type": "code",
   "execution_count": null,
   "id": "9dea4b3b",
   "metadata": {},
   "outputs": [],
   "source": []
  },
  {
   "cell_type": "code",
   "execution_count": null,
   "id": "588082fe",
   "metadata": {},
   "outputs": [],
   "source": []
  }
 ],
 "metadata": {
  "kernelspec": {
   "display_name": "Python 3 (ipykernel)",
   "language": "python",
   "name": "python3"
  },
  "language_info": {
   "codemirror_mode": {
    "name": "ipython",
    "version": 3
   },
   "file_extension": ".py",
   "mimetype": "text/x-python",
   "name": "python",
   "nbconvert_exporter": "python",
   "pygments_lexer": "ipython3",
   "version": "3.11.4"
  }
 },
 "nbformat": 4,
 "nbformat_minor": 5
}
